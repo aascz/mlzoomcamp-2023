{
 "cells": [
  {
   "cell_type": "code",
   "execution_count": 1,
   "metadata": {},
   "outputs": [],
   "source": [
    "import pandas as pd\n",
    "import numpy as np\n",
    "import seaborn as sns\n",
    "from sklearn.linear_model import Ridge"
   ]
  },
  {
   "cell_type": "code",
   "execution_count": 2,
   "metadata": {},
   "outputs": [],
   "source": [
    "# functions\n",
    "def train_linear_regression_model(X, y):\n",
    "    ones = np.ones(X.shape[0])\n",
    "    X = np.column_stack([ones, X])\n",
    "    XTX = X.T.dot(X)\n",
    "    XTX_inv = np.linalg.inv(XTX)\n",
    "    w_full = XTX_inv.dot(X.T).dot(y)\n",
    "    return w_full[0], w_full[1:]\n",
    "\n",
    "\n",
    "def rmse(y, y_pred):\n",
    "    error = y - y_pred\n",
    "    mse = (error**2).mean()\n",
    "    return np.sqrt(mse)\n",
    "\n",
    "\n",
    "def prepare_X_with_mean(df, train_mean=None):\n",
    "    df_num = df.copy()\n",
    "    if train_mean is not None:\n",
    "        df_num.fillna(train_mean, inplace=True)\n",
    "\n",
    "    X = df_num.values\n",
    "    return X\n",
    "\n",
    "\n",
    "def prepare_X_with_zero(df):\n",
    "    df_num = df.copy()\n",
    "    df_num = df_num.fillna(0)\n",
    "    X = df_num.values\n",
    "    return X"
   ]
  },
  {
   "cell_type": "code",
   "execution_count": 3,
   "metadata": {},
   "outputs": [
    {
     "data": {
      "text/plain": [
       "((20640, 10),\n",
       " Index(['longitude', 'latitude', 'housing_median_age', 'total_rooms',\n",
       "        'total_bedrooms', 'population', 'households', 'median_income',\n",
       "        'median_house_value', 'ocean_proximity'],\n",
       "       dtype='object'))"
      ]
     },
     "execution_count": 3,
     "metadata": {},
     "output_type": "execute_result"
    }
   ],
   "source": [
    "df = pd.read_csv(\"housing.csv\")\n",
    "df.shape, df.columns"
   ]
  },
  {
   "cell_type": "code",
   "execution_count": null,
   "metadata": {},
   "outputs": [],
   "source": [
    "sns.histplot(df.median_house_value, bins=50, alpha=0.5)"
   ]
  },
  {
   "cell_type": "code",
   "execution_count": 5,
   "metadata": {},
   "outputs": [
    {
     "data": {
      "text/plain": [
       "((15687, 9),\n",
       " Index(['latitude', 'longitude', 'housing_median_age', 'total_rooms',\n",
       "        'total_bedrooms', 'population', 'households', 'median_income',\n",
       "        'median_house_value'],\n",
       "       dtype='object'))"
      ]
     },
     "execution_count": 5,
     "metadata": {},
     "output_type": "execute_result"
    }
   ],
   "source": [
    "df = df[df.ocean_proximity.isin([\"<1H OCEAN\", \"INLAND\"])]\n",
    "FEATURES = [\n",
    "    \"latitude\",\n",
    "    \"longitude\",\n",
    "    \"housing_median_age\",\n",
    "    \"total_rooms\",\n",
    "    \"total_bedrooms\",\n",
    "    \"population\",\n",
    "    \"households\",\n",
    "    \"median_income\",\n",
    "    \"median_house_value\",\n",
    "]\n",
    "df = df[FEATURES]\n",
    "df.shape, df.columns"
   ]
  },
  {
   "cell_type": "code",
   "execution_count": 6,
   "metadata": {},
   "outputs": [
    {
     "data": {
      "text/plain": [
       "latitude                0\n",
       "longitude               0\n",
       "housing_median_age      0\n",
       "total_rooms             0\n",
       "total_bedrooms        157\n",
       "population              0\n",
       "households              0\n",
       "median_income           0\n",
       "median_house_value      0\n",
       "dtype: int64"
      ]
     },
     "execution_count": 6,
     "metadata": {},
     "output_type": "execute_result"
    }
   ],
   "source": [
    "df.isnull().sum()"
   ]
  },
  {
   "cell_type": "code",
   "execution_count": 7,
   "metadata": {},
   "outputs": [
    {
     "data": {
      "text/plain": [
       "1195.0"
      ]
     },
     "execution_count": 7,
     "metadata": {},
     "output_type": "execute_result"
    }
   ],
   "source": [
    "df.population.median()"
   ]
  },
  {
   "cell_type": "code",
   "execution_count": 8,
   "metadata": {},
   "outputs": [
    {
     "data": {
      "text/plain": [
       "(15687, 9413, 3137, 3137)"
      ]
     },
     "execution_count": 8,
     "metadata": {},
     "output_type": "execute_result"
    }
   ],
   "source": [
    "n = len(df)\n",
    "n_val = int(n * 0.2)\n",
    "n_test = int(n * 0.2)\n",
    "n_train = n - (n_val + n_test)\n",
    "n, n_train, n_val, n_test"
   ]
  },
  {
   "cell_type": "code",
   "execution_count": 9,
   "metadata": {},
   "outputs": [
    {
     "data": {
      "text/plain": [
       "(9413, 3137, 3137)"
      ]
     },
     "execution_count": 9,
     "metadata": {},
     "output_type": "execute_result"
    }
   ],
   "source": [
    "df_train = df.iloc[:n_train]\n",
    "df_val = df.iloc[n_train : n_train + n_val]\n",
    "df_test = df.iloc[n_train + n_val :]\n",
    "idx = np.arange(n)\n",
    "\n",
    "np.random.seed(42)\n",
    "np.random.shuffle(idx)\n",
    "\n",
    "df_train = df.iloc[idx[:n_train]]\n",
    "df_val = df.iloc[idx[n_train : n_train + n_val]]\n",
    "df_test = df.iloc[idx[n_train + n_val :]]\n",
    "\n",
    "df_train = df_train.reset_index(drop=True)\n",
    "df_val = df_val.reset_index(drop=True)\n",
    "df_test = df_test.reset_index(drop=True)\n",
    "\n",
    "y_train = np.log1p(df_train.median_house_value.values)\n",
    "y_val = np.log1p(df_val.median_house_value.values)\n",
    "y_test = np.log1p(df_test.median_house_value.values)\n",
    "\n",
    "del df_train[\"median_house_value\"]\n",
    "del df_val[\"median_house_value\"]\n",
    "del df_test[\"median_house_value\"]\n",
    "\n",
    "len(df_train), len(df_val), len(df_test)"
   ]
  },
  {
   "cell_type": "code",
   "execution_count": 10,
   "metadata": {},
   "outputs": [
    {
     "name": "stdout",
     "output_type": "stream",
     "text": [
      "Train RMSE: 0.34\n",
      "Validation RMSE: 0.34\n",
      "Test RMSE: 0.33\n"
     ]
    }
   ],
   "source": [
    "# Fill NA with mean\n",
    "\n",
    "train_mean = df_train.mean()\n",
    "\n",
    "X_train = prepare_X_with_mean(df_train, train_mean)\n",
    "w0, w = train_linear_regression_model(X_train, y_train)\n",
    "y_pred = w0 + X_train.dot(w)\n",
    "rmse_train = rmse(y_train, y_pred)\n",
    "\n",
    "X_val = prepare_X_with_mean(df_val, train_mean)\n",
    "y_pred = w0 + X_val.dot(w)\n",
    "rmse_val = rmse(y_val, y_pred)\n",
    "\n",
    "df_full_train = pd.concat([df_train, df_val])\n",
    "df_full_train = df_full_train.reset_index(drop=True)\n",
    "X_full_train = prepare_X_with_mean(df_full_train, train_mean)\n",
    "y_full_train = np.concatenate([y_train, y_val])\n",
    "\n",
    "w0, w = train_linear_regression_model(X_full_train, y_full_train)\n",
    "\n",
    "X_test = prepare_X_with_mean(df_test, train_mean)\n",
    "y_pred = w0 + X_test.dot(w)\n",
    "rmse_test = rmse(y_test, y_pred)\n",
    "\n",
    "print(\"Train RMSE: {:.2f}\".format(rmse_train))\n",
    "print(\"Validation RMSE: {:.2f}\".format(rmse_val))\n",
    "print(\"Test RMSE: {:.2f}\".format(rmse_test))"
   ]
  },
  {
   "cell_type": "code",
   "execution_count": 11,
   "metadata": {},
   "outputs": [
    {
     "name": "stdout",
     "output_type": "stream",
     "text": [
      "Best RMSE on Validation set: 0.34 with regularization value r = 0\n",
      "Test RMSE with Best Regularization: 0.33\n"
     ]
    }
   ],
   "source": [
    "# List of regularization values (r)\n",
    "reg_values = [0, 0.000001, 0.0001, 0.001, 0.01, 0.1, 1, 5, 10]\n",
    "\n",
    "best_rmse = float(\"inf\")\n",
    "best_reg_value = None\n",
    "\n",
    "for reg_value in reg_values:\n",
    "    X_train = prepare_X_with_zero(df_train)\n",
    "    w0, w = train_linear_regression_model(X_train, y_train)\n",
    "\n",
    "    model = Ridge(alpha=reg_value)\n",
    "    model.fit(X_train, y_train)\n",
    "\n",
    "    X_val = prepare_X_with_zero(df_val)\n",
    "    y_pred_val = model.predict(X_val)\n",
    "\n",
    "    rmse_val = rmse(y_val, y_pred_val)\n",
    "\n",
    "    if rmse_val < best_rmse:\n",
    "        best_rmse = rmse_val\n",
    "        best_reg_value = reg_value\n",
    "\n",
    "print(\n",
    "    f\"Best RMSE on Validation set: {round(best_rmse, 2)} with regularization value r = {best_reg_value}\"\n",
    ")\n",
    "\n",
    "X_full_train = prepare_X_with_zero(pd.concat([df_train, df_val]))\n",
    "y_full_train = np.concatenate([y_train, y_val])\n",
    "model = Ridge(alpha=best_reg_value)\n",
    "model.fit(X_full_train, y_full_train)\n",
    "\n",
    "X_test = prepare_X_with_zero(df_test)\n",
    "y_pred_test = model.predict(X_test)\n",
    "rmse_test = rmse(y_test, y_pred_test)\n",
    "\n",
    "print(\"Test RMSE with Best Regularization: {:.2f}\".format(rmse_test))"
   ]
  },
  {
   "cell_type": "code",
   "execution_count": 12,
   "metadata": {},
   "outputs": [
    {
     "name": "stdout",
     "output_type": "stream",
     "text": [
      "Standard Deviation of RMSE Scores: 0.005\n"
     ]
    }
   ],
   "source": [
    "seed_values = [0, 1, 2, 3, 4, 5, 6, 7, 8, 9]\n",
    "\n",
    "rmse_scores = []\n",
    "\n",
    "for seed in seed_values:\n",
    "    idx = np.arange(n)\n",
    "    np.random.seed(seed)\n",
    "    np.random.shuffle(idx)\n",
    "\n",
    "    df_train = df.iloc[idx[:n_train]].reset_index(drop=True)\n",
    "    df_val = df.iloc[idx[n_train : n_train + n_val]].reset_index(drop=True)\n",
    "    df_test = df.iloc[idx[n_train + n_val :]].reset_index(drop=True)\n",
    "\n",
    "    y_train = np.log1p(df_train.median_house_value.values)\n",
    "    y_val = np.log1p(df_val.median_house_value.values)\n",
    "    y_test = np.log1p(df_test.median_house_value.values)\n",
    "\n",
    "    del df_train[\"median_house_value\"]\n",
    "    del df_val[\"median_house_value\"]\n",
    "    del df_test[\"median_house_value\"]\n",
    "\n",
    "    X_train = prepare_X_with_zero(df_train)\n",
    "    w0, w = train_linear_regression_model(X_train, y_train)\n",
    "    y_pred_val = w0 + prepare_X_with_zero(df_val).dot(w)\n",
    "    rmse_val = rmse(y_val, y_pred_val)\n",
    "\n",
    "    rmse_scores.append(rmse_val)\n",
    "\n",
    "std_deviation = round(np.std(rmse_scores), 3)\n",
    "\n",
    "print(f\"Standard Deviation of RMSE Scores: {std_deviation}\")"
   ]
  },
  {
   "cell_type": "code",
   "execution_count": 13,
   "metadata": {},
   "outputs": [
    {
     "name": "stdout",
     "output_type": "stream",
     "text": [
      "Test RMSE with r=0.001: 0.33\n"
     ]
    }
   ],
   "source": [
    "# seed = 9\n",
    "seed = 9\n",
    "np.random.seed(seed)\n",
    "\n",
    "idx = np.arange(n)\n",
    "np.random.shuffle(idx)\n",
    "\n",
    "df_train = df.iloc[idx[:n_train]].reset_index(drop=True)\n",
    "df_val = df.iloc[idx[n_train : n_train + n_val]].reset_index(drop=True)\n",
    "df_test = df.iloc[idx[n_train + n_val :]].reset_index(drop=True)\n",
    "\n",
    "y_train = np.log1p(df_train.median_house_value.values)\n",
    "y_val = np.log1p(df_val.median_house_value.values)\n",
    "y_test = np.log1p(df_test.median_house_value.values)\n",
    "\n",
    "del df_train[\"median_house_value\"]\n",
    "del df_val[\"median_house_value\"]\n",
    "del df_test[\"median_house_value\"]\n",
    "\n",
    "df_combined_train = pd.concat([df_train, df_val])\n",
    "df_combined_train = df_combined_train.reset_index(drop=True)\n",
    "\n",
    "y_combined_train = np.concatenate([y_train, y_val])\n",
    "\n",
    "X_combined_train = prepare_X_with_zero(df_combined_train)\n",
    "X_test = prepare_X_with_zero(df_test)\n",
    "\n",
    "reg_value = 0.001\n",
    "model = Ridge(alpha=reg_value)\n",
    "model.fit(X_combined_train, y_combined_train)\n",
    "\n",
    "y_pred_test = model.predict(X_test)\n",
    "\n",
    "rmse_test = rmse(y_test, y_pred_test)\n",
    "\n",
    "print(\"Test RMSE with r=0.001: {:.2f}\".format(rmse_test))"
   ]
  }
 ],
 "metadata": {
  "kernelspec": {
   "display_name": ".venv",
   "language": "python",
   "name": "python3"
  },
  "language_info": {
   "codemirror_mode": {
    "name": "ipython",
    "version": 3
   },
   "file_extension": ".py",
   "mimetype": "text/x-python",
   "name": "python",
   "nbconvert_exporter": "python",
   "pygments_lexer": "ipython3",
   "version": "3.11.5"
  },
  "orig_nbformat": 4
 },
 "nbformat": 4,
 "nbformat_minor": 2
}
